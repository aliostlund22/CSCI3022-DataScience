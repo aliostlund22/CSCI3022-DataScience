{
 "cells": [
  {
   "cell_type": "markdown",
   "metadata": {},
   "source": [
    "<a/ id='top'></a>\n",
    "# Homework 2: Introduction to Probability and Simulation \n",
    "***\n",
    "\n",
    "**Name**: Alison Ostlund\n",
    "\n",
    "***\n",
    "\n",
    "This assignment is due on Moodle by **5 PM on Friday September 28**. Your solutions to theoretical questions should be done in Markdown/MathJax directly below the associated question.  Your solutions to computational questions should include any specified Python code and results as well as written commentary on your conclusions.  Remember that you are encouraged to discuss the problems with your instructors and classmates, but **you must write all code and solutions on your own**. \n",
    "\n",
    "**NOTES**: \n",
    "\n",
    "- It is **bad form** to make your reader interpret numerical output from your code.  If a question asks you to compute some value from the data you should show your code output **AND** write a summary of the results in Markdown directly below your code.\n",
    "- Because you can technically evaluate notebook cells in a non-linear order, it's a good idea to do Cell $\\rightarrow$ Run All as a check before submitting your solutions.  That way if we need to run your code you will know that it will work as expected.\n",
    "- Leave all of your code cells executed and the output displayed before submitting your final notebook. That way, we do not need to re-run all of the simulations, which can be time-consuming.\n",
    "- Submit only this Jupyter notebook to Moodle.  Do not compress it using tar, rar, zip, etc. \n",
    "\n",
    "---\n",
    "**Shortcuts:**  [Problem 1](#p1) | [Problem 2](#p2) | [Problem 3](#p3) | [Problem 4](#p4) | [Problem 5](#p5) | [Challenge!](#ch)\n",
    "\n",
    "---"
   ]
  },
  {
   "cell_type": "code",
   "execution_count": 216,
   "metadata": {
    "scrolled": true
   },
   "outputs": [],
   "source": [
    "import pandas as pd\n",
    "import numpy as np\n",
    "import matplotlib.pylab as plt\n",
    "%matplotlib inline"
   ]
  },
  {
   "cell_type": "markdown",
   "metadata": {},
   "source": [
    "***\n",
    "<a/ id='p1'></a>\n",
    "[Back to top](#top)\n",
    "\n",
    "### [20 points] Problem 1\n",
    "\n",
    "To play a game, you have a bag containing 28 fair [four-sided dice](https://en.wikipedia.org/wiki/Four-sided_die), with faces `{1,2,3,4}`.  This bag also contains 10 fair six-sided dice (faces `{1,2,3,4,5,6}`) and 2 fair twenty-sided dice (faces `{1,2,3,4,...,19,20}`).  Call these 3 classes of die \"Four\", \"Six\" and \"Twenty\" (or F, S, and T, for short).  You grab one die at random from the box.  \n",
    "\n",
    "Work the following problems by hand unless otherwise stated (but don't be afraid to simulate to check your result!). "
   ]
  },
  {
   "cell_type": "markdown",
   "metadata": {},
   "source": [
    "**Part A**: You roll your die one time.  What is the probability of the event $R_5$, that you roll a 5?  Include at least 4 decimal places in your answer."
   ]
  },
  {
   "cell_type": "markdown",
   "metadata": {},
   "source": [
    "$$ P(r_5) =  P(r_5 | F)P(F) + P(r_5 | S)P(S) + P(r_5| T) P(T) $$ <br>\n",
    "$$ P(r_5) =  (\\frac{0}{4} \\cdot \\frac{28}{40}) + (\\frac{1}{6} \\cdot \\frac{10}{40}) + (\\frac{1}{20} \\cdot \\frac{2}{40})$$ <br>\n",
    "$$ P(r_5) =  (0) + (\\frac{1}{24}) + ( \\frac{1}{400})$$ <br>\n",
    "$$ P(r_5) = \\frac{53}{1200} \\approx \\textbf{0.04416} $$\n",
    "\n",
    "\n"
   ]
  },
  {
   "cell_type": "markdown",
   "metadata": {},
   "source": [
    "**Part B**: Suppose you roll a 5.  What is the probability that the die you chose from the box is a Six-sided die? "
   ]
  },
  {
   "cell_type": "markdown",
   "metadata": {},
   "source": [
    "$$ P(S|r_5) = \\frac{P(r_5 | S) P(S)}{P(r_5)} $$ <br>\n",
    "$$ P(S|r_5) = \\frac{(\\frac{1}{6} \\cdot \\frac{10}{40})}{\\frac{53}{1200}} $$ <br>\n",
    "$$ P(S|r_5) = \\frac{50}{53} \\approx \\textbf{0.9434} $$ <br>"
   ]
  },
  {
   "cell_type": "markdown",
   "metadata": {},
   "source": [
    "**Part C:**  Are the events $R_5$ and $S$ independent?  Justify your answer **using math**."
   ]
  },
  {
   "cell_type": "markdown",
   "metadata": {},
   "source": [
    "Event $R_5$ is said to be independent of event S if P( $R_5$ | S) = P($R_5$): <br>\n",
    "<br>\n",
    "$$P(R_5 | S) = \\frac{1}{6} $$ <br>\n",
    "$$ P(R_5) = \\frac{53}{1200} $$ <br>\n",
    "$$ \\textbf{P($R_5$ | S) $\\neq$ P($R_5$)} $$ <br>\n",
    "Therefore the events $R_5$ and S are not independent making them dependent.\n"
   ]
  },
  {
   "cell_type": "markdown",
   "metadata": {},
   "source": [
    "**Part D:**  Suppose you roll your die $n$ times and record each outcome.  Obviously, if you roll 5 or 6 you know you did *not* pick a Four-sided die, and if you roll a 7 or higher, you must have picked a Twenty-sided die.\n",
    "\n",
    "But, if you roll $n$ times in a row and get only 1, 2, 3 or 4, you would have a stronger belief that you in fact grabbed one of the Four-sided dice.  Let $E_n$ be the event that you roll $n$ rolls of 1, 2, 3 or 4 in a row.  For example, one outcome in $E_3$ is the sequence 2, 3, 1.\n",
    "\n",
    "Given that you roll a single value of 1, 2, 3 or 4, what is the probability that you have grabbed a Four-sided die?  That is, calculate **by hand** $P(F \\mid E_1)$."
   ]
  },
  {
   "cell_type": "markdown",
   "metadata": {},
   "source": [
    "\n",
    "$$P(F|E_1) = \\frac{P(E_1 | F) \\cdot P(F)}{P(E_1)} $$<br>\n",
    "\n",
    "$$P(E_1| F) = 1 $$<br>\n",
    "$$ P(F) = \\frac{28}{40}$$ <br>\n",
    "The $P(E_1)$ is the only unknown value we have.<br>\n",
    "$$P(E_1) = P(r1) + P(r2) + P(r3) + P(r4) $$\n",
    "        $$= 4 \\cdot(P(r1)) $$\n",
    "SO... $P(r_1) = P(r_1 | F)P(F) + P(r_1 | S)P(S) + P(r_1| T) P(T) $ <br>\n",
    "$$ = (\\frac{1}{4} \\cdot \\frac{28}{40}) + (\\frac{1}{6} \\cdot \\frac{10}{40}) + (\\frac{1}{20} \\cdot \\frac{2}{40})$$ <br> \n",
    "$$ = \\frac{263}{1200} $$<br>\n",
    "$$P(E_1) = 4 \\cdot(\\frac{263}{1200})  = \\frac{263}{300} $$<br>\n",
    "\n",
    "Then $P(F|E_1)$ =\n",
    "$$\\frac{ 1 \\cdot \\frac{28}{40}}{\\frac{263}{300}} = \\frac{210}{263} \\approx \\textbf{0.7684} $$ \n",
    "        \n",
    "\n"
   ]
  },
  {
   "cell_type": "markdown",
   "metadata": {},
   "source": [
    "**Part E**:  \n",
    "\n",
    "First, work out **by hand** a formula for the probability in general that you are rolling a Four-sided die, given that you have rolled $n$ values in a row that are 1, 2, 3 or 4 (that is, $E_n$).  So you want a formula for $P(F \\mid E_n)$ in terms of $n$.\n",
    "\n",
    "Then, define a function `prob_four` to calculate $P(F \\mid E_n)$.  This function should only take one positive integer argument, $n$.\n",
    "\n",
    "Verify that your function is performing as expected by checking your answer to **Part C**."
   ]
  },
  {
   "cell_type": "markdown",
   "metadata": {},
   "source": [
    "The case of rolling $E_1$ gives us the options of getting a set of {1,2,3,4}. <br>\n",
    "So the the set for $E_2$ is {11,12,13,14,21,22,23,24,31,32,33,34,41,42,43,44}. <br>\n",
    "From here you can see the number of chances of rolling increases exponetially, therefore to get the $P(F|E_n)$ the prob $P(E_n)$ is just $P(E_1)^{n} = \\frac{263}{400}^{n}$. <br>\n"
   ]
  },
  {
   "cell_type": "code",
   "execution_count": 217,
   "metadata": {},
   "outputs": [
    {
     "data": {
      "text/plain": [
       "0.7984790874524714"
      ]
     },
     "execution_count": 217,
     "metadata": {},
     "output_type": "execute_result"
    }
   ],
   "source": [
    "def prob_four(n):\n",
    "    pE = pow((263/300),n)\n",
    "    prob = (28/40) /pE\n",
    "    return prob\n",
    "\n",
    "prob_four(1)\n",
    "    "
   ]
  },
  {
   "cell_type": "markdown",
   "metadata": {},
   "source": [
    "**Part F:**  What is the smallest value of $n$ successive rolls of 1, 2, 3 or 4 that would make you believe that there's a better-than-95% chance that the die you grabbed is Four-sided?  Plugging larger and larger values for $n$ into your `prob_four` function is a very reasonable way to check this."
   ]
  },
  {
   "cell_type": "markdown",
   "metadata": {},
   "source": [
    "The smallest value of n rolls that gives a better then 95% chance of getting a Four-sided die is 3.\n",
    "When n=3 $\\rightarrow P(F|E_3)$ = 1.03894978777664 > 0.95."
   ]
  },
  {
   "cell_type": "markdown",
   "metadata": {},
   "source": [
    "***\n",
    "<a/ id='p2'></a>\n",
    "[Back to top](#top)\n",
    "\n",
    "### [20 points] Problem 2\n",
    "\n",
    "Oscar and Stella are two average young adult octopuses. They work hard, but they also like to blow off a little steam after work. When they leave work from the CU Engineering Center ($E~$), they each head for one of five other locations: the Gym to get strong ($G~$), the Library to get learned ($L~$), the Boulder Reservoir to have a nice swim ($R$), the Hill to have a sandwich ($H~$), or to Brewing Market to have a nice Coffee ($C~$).  \n",
    "\n",
    "Here are some rules governing their movements throughout the fair city of Boulder:\n",
    "* When Oscar and/or Stella is leaving one location, they randomly select one of the available adjacent locations, with equal probability.\n",
    "* This includes back-tracking, but note that to return to their original location would require 2 moves.\n",
    "* Assume that all moves require the same amount of time.\n",
    "* They are also not allowed to stay put; they always must move to some *other* adjacent location.\n",
    "* Oscar and Stella, being the think-for-yourselfers that they are, also act **independently** of one another. That is, the probability that Oscar goes from one place to another is independent of the probability of Stella's movements.\n",
    "* As we learned from your answers to Problem 5 of Homework 1, Stella and Oscar of course prefer to *walk* from place to place, as opposed to swim... because one of an octopus' *three* hearts will stop beating when it swims. Yowza!\n",
    "\n",
    "<img src=\"http://www.cs.colorado.edu/~tonyewong/home/resources/chris_and_dan_statespace.png\" style=\"width: 300px;\"/>"
   ]
  },
  {
   "cell_type": "markdown",
   "metadata": {},
   "source": [
    "**Part A**: Oscar, being a learned octopus, wants to go to the library, but also wants to make a stop somewhere else first, for he has octopus errands to run. Compute (by hand) the probability that Oscar ends up at the the Library ($L$) after first visiting one other location, after he is initially at the Engineering Center ($E$). "
   ]
  },
  {
   "cell_type": "markdown",
   "metadata": {},
   "source": [
    "$$ P(L) = P (L | G) P(G) + P(L| C) P(C) + P(L| R) P(R) $$<br>\n",
    "$$ P(L) = \\frac{1}{4}\\cdot \\frac{1}{4} + \\frac{1}{4}\\cdot \\frac{1}{3} + \\frac{1}{4}\\cdot 0 $$<br>\n",
    "$$ P(L) =  \\frac{1}{16} + \\frac{1}{12} $$<br>\n",
    "$$ P(L) = \\textbf{$\\frac{7}{48}$} \\approx \\textbf{0.145} $$"
   ]
  },
  {
   "cell_type": "markdown",
   "metadata": {},
   "source": [
    "**Part B**: Stella, on the other tentacle, is a body-building octopus. This is quite the feat given her lack of bones! Compute (by hand) the probability that Stella ends up at the Gym _either_ as her first _or_ second location visited after leaving the Reservsoir. (Again, assume that Stella wanders the streets of Boulder randomly using the same rules described above.)"
   ]
  },
  {
   "cell_type": "markdown",
   "metadata": {},
   "source": [
    "$$P(G) = P(G|G) + P(G|E) P(E) $$ <br>\n",
    "$$P(G) = \\frac{1}{2} + \\frac{1}{2}\\cdot \\frac{1}{4} $$<br>\n",
    "$$ P(G) =  \\frac{1}{2} + \\frac{1}{8} $$<br>\n",
    "$$ P(G) = \\textbf{$\\frac{5}{8}$}\\approx \\textbf{0.625} $$\n"
   ]
  },
  {
   "cell_type": "markdown",
   "metadata": {},
   "source": [
    "**Part C**: Suppose that Oscar works late at the Engineering Center, while Stella goes to the Hill.  Later, they both leave and wander around, randomly and independently of one another, as described above.\n",
    "1. What is the probability that they run into each other in the same location on the first location visited?  \n",
    "2. Given their two initial locations, what is the probability that they meet at the Hill after 2 moves?"
   ]
  },
  {
   "cell_type": "markdown",
   "metadata": {},
   "source": [
    "$\\textbf{1.}$ <br>\n",
    "Both Oscar and Stella have the Gym, Library, and Coffee as a common stop where they could run into eachother. <br>\n",
    "Oscar:  <br>\n",
    "P(G) = $\\frac{1}{4}$ \n",
    "P(L) = $\\frac{1}{4}$ \n",
    "P(C) = $\\frac{1}{4}$ <br>\n",
    "Stella: <br>\n",
    "P(G) = $\\frac{1}{3}$ \n",
    "P(L) = $\\frac{1}{3}$ \n",
    "P(C) = $\\frac{1}{3}$ \n",
    "<br>\n",
    "So probability both Oscar and Stella end up a the Gym is : $\\frac{1}{4} \\cdot \\frac{1}{3} = \\frac{1}{12} $ Which would be the same for if the both go the the Library, or the Coffee. Therefore the probability that they end up at the same place is $ (3 \\cdot \\frac{1}{12})  = \\frac{1}{4} \\approx \\textbf{0.25}$ <br>\n",
    "\n",
    "$\\textbf{2.}$ <br>\n",
    "For Oscar and Stella to run into eachother after taking two stops we need to consider the paths each one can take an then find the probabilities for both.\n",
    "<br>\n",
    "Oscars paths are: <br>\n",
    "$E: E \\to R \\to E,E \\to C \\to E, E \\to L \\to E, E \\to G \\to E $<br>\n",
    "$L: E \\to C \\to L,E \\to G \\to L$<br>\n",
    "$R:E \\to G \\to R$<br>\n",
    "$H: E \\to L \\to H, E \\to C \\to H, E \\to G \\to H$<br>\n",
    "$C: E \\to L \\to C$<br>\n",
    "$G: E \\to L \\to G, E \\to R \\to G $<br>\n",
    "\n",
    "\n",
    "We find the Probabilities for each location for Oscar: <br>\n",
    "\n",
    "$$P(E) = P(E|R) P(R) + P(E|C) P(C) + P(E|L) P(L)  + P(E|G) P(G)$$ <br>\n",
    "$$ = \\frac{1}{4}\\cdot\\frac{1}{2}+ \\frac{1}{4}\\cdot\\frac{1}{3} + \\frac{1}{4}\\cdot\\frac{1}{4} + \\frac{1}{4}\\cdot\\frac{1}{4} = \\frac{1}{3}$$ <br>\n",
    "$$P(L) = P(L|C) P(C) + P(L|G) P(G) $$ <br>\n",
    "$$ = \\frac{1}{4}\\cdot\\frac{1}{3}+ \\frac{1}{4}\\cdot\\frac{1}{4}= \\frac{7}{48}$$ <br>\n",
    "$$P(R) = P(R|G) P(G) $$ <br>\n",
    "$$ = \\frac{1}{4}\\cdot\\frac{1}{4}= \\frac{1}{16}$$ <br>\n",
    "$$P(H) = P(H|L) P(L) + P(H|C) P(C) + P(H|G) P(G)  $$ <br>\n",
    "$$ = \\frac{1}{4}\\cdot\\frac{1}{4}+ \\frac{1}{4}\\cdot\\frac{1}{3} + \\frac{1}{4}\\cdot\\frac{1}{4}  = \\frac{5}{24}$$ <br>\n",
    "$$P(C) = P(C|G) P(G) $$ <br>\n",
    "$$ = \\frac{1}{4}\\cdot\\frac{1}{4}= \\frac{1}{16}$$ <br>\n",
    "$$P(G) = P(G|L) P(L) + P(G|R) P(R) $$ <br>\n",
    "$$ = \\frac{1}{4}\\cdot\\frac{1}{4}+ \\frac{1}{4}\\cdot\\frac{1}{2}= \\frac{3}{16}$$ <br>\n",
    "\n",
    "\n",
    "Stellas paths are:<br>\n",
    "$E: H \\to L \\to E, H \\to G \\to E,  H \\to C \\to E$<br>\n",
    "$L: H \\to G \\to L, H \\to C \\to L$<br>\n",
    "$R: H \\to G \\to R$<br>\n",
    "$H: H \\to L \\to H, H \\to G \\to H, H \\to C \\to H$<br>\n",
    "$C: H \\to L \\to C$<br>\n",
    "$G: H \\to L \\to G $<br>\n",
    "\n",
    "\n",
    "\n",
    "Calulate the probabilities for each location for Stella:<br>\n",
    "\n",
    "$$P(E) = P(E|L) P(L) + P(E|G) P(G) + P(E|C) P(C)$$<br>\n",
    "$$ = \\frac{1}{3}\\cdot\\frac{1}{4}+ \\frac{1}{3}\\cdot\\frac{1}{4} + \\frac{1}{3}\\cdot\\frac{1}{3} = \\frac{5}{18}$$<br>\n",
    "$$P(L) = P(L|G) P(G) + P(L|C) P(C) $$<br>\n",
    "$$ = \\frac{1}{3}\\cdot\\frac{1}{4}+ \\frac{1}{3}\\cdot\\frac{1}{3}= \\frac{7}{36}$$<br>\n",
    "$$P(R) = P(R|G) P(G) $$<br>\n",
    "$$ = \\frac{1}{3}\\cdot\\frac{1}{4}= \\frac{1}{12}$$<br>\n",
    "$$P(H) = P(H|L) P(L) + P(H|G) P(G) + P(H|C) P(C)  $$<br>\n",
    "$$ = \\frac{1}{3}\\cdot\\frac{1}{4}+ \\frac{1}{3}\\cdot\\frac{1}{4} + \\frac{1}{3}\\cdot\\frac{1}{3}  = \\frac{5}{18}$$<br>\n",
    "$$P(C) = P(C|L) P(L) $$<br>\n",
    "$$ = \\frac{1}{3}\\cdot\\frac{1}{4}= \\frac{1}{12}$$<br>\n",
    "$$P(G) = P(G|L) P(L) $$<br>\n",
    "$$ = \\frac{1}{3}\\cdot\\frac{1}{4}= \\frac{1}{12}$$<br>\n",
    "\n",
    "So then the probability of them meeting is: \n",
    "Notation: subscript o = Oscar, subscript s = Stella. <br>\n",
    "$$\\begin{align}\n",
    "P(meet) &= P(E_0)P(E_s) + P(L_o)P(L_s) + P(R_o)P(R_s) + P(H_o)P(H_s) + P(C_o)P(C_s) + P(G_o)P(G_s) \\\\\n",
    "&= \\frac{1}{3} \\cdot\\frac{5}{18} + \\frac{7}{48}\\cdot\\frac{7}{36} + \\frac{1}{16}\\cdot\\frac{1}{12} + \\frac{5}{24}\\cdot\\frac{5}{18} + \\frac{1}{16}\\cdot\\frac{1}{12} + \\frac{3}{16}\\cdot\\frac{1}{12}\\\\\n",
    "&= \\frac{5}{54} + \\frac{49}{1728} + \\frac{1}{192} + \\frac{25}{432} + \\frac{1}{192} +\\frac{1}{64}\\\\\n",
    "&= \\frac{59}{288} \\approx  \\textbf{0.2048}\n",
    "\\end{align}$$"
   ]
  },
  {
   "cell_type": "markdown",
   "metadata": {},
   "source": [
    "**Part D**: Write a simulation to confirm that your by-hand calculations in **Part A**, **Part B**, and **Part C** are correct. Make sure you run your simulations for enough trials that your estimates are reasonably close to your analytic results. In addition to showing your code, you should explain in Markdown (not just in code comments) what your code is doing and why it is a reasonable approximation of the probabilities in **Part A**, **Part B**, and **Part C**.  "
   ]
  },
  {
   "cell_type": "code",
   "execution_count": 218,
   "metadata": {},
   "outputs": [
    {
     "name": "stdout",
     "output_type": "stream",
     "text": [
      "0.1407\n"
     ]
    }
   ],
   "source": [
    "graph={\"E\":[\"R\",\"G\",\"L\",\"C\"],  # neighbors of E\n",
    "         \"R\":[\"G\",\"E\"],  # neighbors of R\n",
    "         \"L\":[\"G\",\"E\",\"C\", \"H\"], # neighbors of L\n",
    "         \"G\":[\"R\",\"E\",\"L\",\"H\"], # neighbors of G\n",
    "         \"H\":[\"G\",\"L\",\"C\"],# neighbors of H\n",
    "         \"C\":[\"L\",\"H\", \"E\"]}# neighbors of C\n",
    "\n",
    "def simulation(l, steps, neighbors):\n",
    "    location = l\n",
    "    for s in range(steps):\n",
    "        location = np.random.choice(neighbors[location])\n",
    "    return location\n",
    "\n",
    "#PART A\n",
    "num = 10000\n",
    "arr = []\n",
    "for i in range(num):\n",
    "    j = simulation(\"E\",2,graph)\n",
    "    if(j == \"L\"):\n",
    "        arr.append(j)\n",
    "print(len(arr)/num)"
   ]
  },
  {
   "cell_type": "code",
   "execution_count": 219,
   "metadata": {},
   "outputs": [
    {
     "name": "stdout",
     "output_type": "stream",
     "text": [
      "0.6338999999999999\n"
     ]
    }
   ],
   "source": [
    "#PART B\n",
    "arrb = []\n",
    "arrb1 = []\n",
    "for i in range(num):\n",
    "    j = simulation(\"R\",2,graph)\n",
    "    if(j == \"G\"):\n",
    "        arrb.append(j)\n",
    "b1 = (len(arrb)/num)\n",
    "\n",
    "for i in range(num):\n",
    "    k = simulation(\"R\",1,graph)\n",
    "    if(k == \"G\"):\n",
    "        arrb1.append(k)\n",
    "b2 = (len(arrb1)/num)\n",
    "print(b1+b2)"
   ]
  },
  {
   "cell_type": "code",
   "execution_count": 220,
   "metadata": {},
   "outputs": [
    {
     "name": "stdout",
     "output_type": "stream",
     "text": [
      "0.2458\n",
      "0.2001\n"
     ]
    }
   ],
   "source": [
    "#PART C\n",
    "#1\n",
    "arro = []\n",
    "for i in range(num):\n",
    "    o = simulation(\"E\",1,graph)\n",
    "    s = simulation(\"H\",1,graph)\n",
    "    if(o == s):\n",
    "        arro.append(o)\n",
    "meet = (len(arro)/num)\n",
    "print(meet)\n",
    "# Oscar = np.array([simulation(\"E\",1,graph) for x in range(num)])\n",
    "# Stella = np.array([simulation(\"H\",1,graph) for x in range(num)])\n",
    "# print(np.sum(Oscar==Stella)/num)\n",
    "\n",
    "#2\n",
    "arrs = []\n",
    "for i in range(num):\n",
    "    o = simulation(\"E\",2,graph)\n",
    "    s = simulation(\"H\",2,graph)\n",
    "    if(o == s):\n",
    "        arrs.append(o)\n",
    "meet1 = (len(arrs)/num)\n",
    "print(meet1)\n"
   ]
  },
  {
   "cell_type": "markdown",
   "metadata": {},
   "source": [
    "***\n",
    "<a/ id='p3'></a>\n",
    "[Back to top](#top)\n",
    "\n",
    "### [20 points] Problem 3  \n",
    "\n",
    "As part of their Computer Science Jedi training, Tony and Dan are having a lightsaber duel. The rules of the lightsaber duel are as follows:\n",
    "* The duel is composed of a number of rounds.\n",
    "* Each round consists of Tony practicing his sweetest Jedi moves and trying to strike Dan, then Dan practicing *his* best moves and trying to strike Tony.\n",
    "* If Tony manages to strike Dan, then Tony is awarded a point, and similarly if Dan manages to strike Tony, then Dan is awarded a point.\n",
    "* If a round ends in a tie, then Tony and Dan proceed to another round. If a round ends with one Jedi scoring a point but the other one does not, then the Jedi who scored a point wins the duel.\n",
    "\n",
    "Let $T$ be the event that \"Tony wins the duel\", $E$ be the event that \"the duel ends after the first round of lightsaber strikes\", and $C$ be the event that \"the duel continues after the first round of lightsaber strikes\".  Suppose that the result of one lightsaber strike is independent of the other strikes, Tony successfully lands his lightsaber strikes with probability $p$, and Dan lands his strikes with probability $q$.\n",
    "\n",
    "**Part A**: The duel will continue until Tony or Dan wins.  What is the sample space $\\Omega$ for this \"experiment\"?  Represent the outcomes of individual lightsaber strikes by $H$ for a hit and $M$ for a miss, and assume that Tony has the first strike in each round. At the very least, your answer should include all of the events in $\\Omega$ that include one or two rounds."
   ]
  },
  {
   "cell_type": "markdown",
   "metadata": {},
   "source": [
    "$$ \\Omega = \\{HM,MH, HHMH, HHHM, HHHHHM, HHHHMH...\\} $$"
   ]
  },
  {
   "cell_type": "markdown",
   "metadata": {},
   "source": [
    "**Part B**: Determine $P(T \\mid E)$ in terms of $p$ and $q$."
   ]
  },
  {
   "cell_type": "markdown",
   "metadata": {},
   "source": [
    "$$ P(T |E) = \\frac{P(T \\cap E)}{P(E)} $$ <br>\n",
    "$$= \\frac{p(1-q)}{p(1-q)+(q(1-p))}$$<br>\n",
    "$$= \\frac{p(1-q)}{p-pq+q-qp} $$<br>\n",
    "$$= \\frac{p(1-q)}{p+q -2pq}$$"
   ]
  },
  {
   "cell_type": "markdown",
   "metadata": {},
   "source": [
    "**Part C**: Explain why events $W$ and $T$ are independent. "
   ]
  },
  {
   "cell_type": "markdown",
   "metadata": {},
   "source": [
    "Events W and T are indpendent of eachother because all hits are indpendent of each other.Therefore Tony has just as good a chance of winning any round as he does in the first round. Making it past the first round has no impact on the probability of Tony winning, and Tony is equally likely to win in any round as the first."
   ]
  },
  {
   "cell_type": "markdown",
   "metadata": {},
   "source": [
    "**Part D**: Use the Law of Total Probability to show that $P(T) = p(1-q) + (2pq - p - q +1) ~P(T \\mid C)$. "
   ]
  },
  {
   "cell_type": "markdown",
   "metadata": {},
   "source": [
    "$$P(T)= P(T|C)\\cdot P(T) + P(T|E) \\cdot P(E) $$ <br>\n",
    "$$ =P(T|C) \\cdot P(T) +\\frac{P(T \\cap E) \\cdot P(E)}{P(E)}  $$ <br>\n",
    "$$ =P(T|C) \\cdot P(T) + P(T \\cap E) $$ <br>\n",
    "$$ =P(T|C)(pq + (1-p)\\cdot(1-q) + p(1-q)$$ <br>\n",
    "$$ =(2pq-p-q+1)\\cdot P(T|C) + p(1-q)$$"
   ]
  },
  {
   "cell_type": "markdown",
   "metadata": {},
   "source": [
    "**Part E**: Use the fact from **Part B** that $P(T \\mid C) = P(T)$ to determine $P(T)$ in terms of $p$ and $q$. "
   ]
  },
  {
   "cell_type": "markdown",
   "metadata": {},
   "source": [
    "$$P(T) = P(T|C)(2pq -p-q +1) + p(1-q) $$<br>\n",
    "$$p(1-q) = P(T) - P(T| C)(2pq - p - q + 1) $$<br>\n",
    "\n",
    "Since $P(T| C) = P(T)$<br>\n",
    "$$ p(1-q) = P(T) - P(T)(2pq - p - q + 1) $$<br>\n",
    "$$ p(1-q) = P(T)(1-1(2pq - p - q + 1)) $$<br>\n",
    "$$ P(T)= \\frac{p(1-q)}{1-1(2pq - p - q + 1)} $$<br>\n",
    "$$ P(T) = \\frac{p(1-q)}{1-2pq + p + q - 1} $$<br>\n",
    "$$ P(T) = \\frac{p(1-q)}{p + q - 2pq} $$"
   ]
  },
  {
   "cell_type": "markdown",
   "metadata": {},
   "source": [
    "**Part F**: Explain why the answers to **Part B** and **Part E** are the same. "
   ]
  },
  {
   "cell_type": "markdown",
   "metadata": {},
   "source": [
    "Part B and Part E are the same because these events are independent. Event T is indpendent of event C and is also independent of event E. So if there is no winner in the first round, then the whole round restarts. The new round has no prior knowledge of the previous round, therefore Tony ha the same probability of winning in this new round as he did in the first round. Further, ending in the first round has no impact on Tony winning, nor does Tony winning have any influence on the game ending in the first round."
   ]
  },
  {
   "cell_type": "markdown",
   "metadata": {},
   "source": [
    "**Part G**: Explain the significance of the solution technique for $P(T)$ outlined in **Part D** and **Part E**.  Why did we go this route instead of computing $P(T)$ directly?  Can we always use such techniques?  What assumption did we need to make in order to use this solution approach?"
   ]
  },
  {
   "cell_type": "markdown",
   "metadata": {},
   "source": [
    "The significance of the solution technique for P(T) is the fact that it proved the independence of Tony winning from events T and C. This showed that whether both Tony or Dan scored or neither scored in the first round, Tony had an equal chance of winning afterward. \n",
    "We can only use this technique because of the independence of events and therefore this method wouldn't have worked otherwise."
   ]
  },
  {
   "cell_type": "markdown",
   "metadata": {},
   "source": [
    "***\n",
    "<a/ id='p4'></a>\n",
    "[Back to top](#top)\n",
    "\n",
    "### [20 points] Problem 4\n",
    "\n",
    "In this problem you will write some code to simulate the game of **Miniopoly** (a very rough approximation of [Monopoly](https://en.wikipedia.org/wiki/Monopoly_(game)).  The game consists of a round board with 40 \"squares\" numbered from $0$ to $39$, where squares $0$ and would-be $40$ are [coincident](https://en.wikipedia.org/wiki/Coincident) and called **GO**.  A player starts on **GO** with \\$200 in their pocket.  On each turn the player rolls a pair of dice and then moves a number of spaces equal to the sum of the dice.  Landing on different squares have different results: \n",
    "\n",
    "- Squares 2, 7, 17, 22, 33, and 36 cause you to draw a card.  The cards tell you to collect \\$50, \\$100 or \\$200, or pay the bank \\$50 or \\$100.  There is always an equal probability associated with each of these possible cards.\n",
    "\n",
    "<p> </p>\n",
    "\n",
    "- Squares 0, 10, and 20 do not trigger any action \n",
    "\n",
    "<p> </p>\n",
    "\n",
    "- Square 30 is **Go To Jail**, which sends the player directly to **Jail** and ends the turn \n",
    "\n",
    "<p> </p>\n",
    "\n",
    "- If a player starts a turn from **Jail** she rolls two dice: \n",
    "\n",
    "    - If the player rolls doubles (i.e. the dice have equal values) the player moves from Square 10 a number of squares equal to the sum of the dice\n",
    "    \n",
    "    - If the player rolls anything other than doubles she pays the bank \\$20 and remains in **Jail** \n",
    "    \n",
    "<p> </p>\n",
    "\n",
    "- If the player passes or lands on **GO** she collects \\$200. \n",
    "\n",
    "<p> </p>\n",
    "\n",
    "- If the player lands on any other square not mentioned above, she pays the bank an amount equal to the square's number (e.g. if she lands on Square 29 she pays the bank \\$29). \n",
    "\n",
    "<p> </p>\n",
    "\n",
    "If at any point the player has \\$0 or less they go bankrupt and the game ends.\n",
    "\n",
    "See [here](http://www.cs.colorado.edu/~tonyewong/home/resources/miniopoly_example.png) for an example of the Miniopoly board layout.\n",
    "\n",
    "<br>\n",
    "\n",
    "**Part A**: Complete the function miniopoly_turn below. The function should simulate one turn of Miniopoly.  It should take as arguments the player's current location on the board as well as the player's current cash reserves, and return the player's new location and cash reserves after the turn has completed. Note that if a player goes bankrupt during the game you should return their cash as 0 instead of a negative value.  "
   ]
  },
  {
   "cell_type": "code",
   "execution_count": 221,
   "metadata": {},
   "outputs": [],
   "source": [
    "def miniopoly_turn(state, cash):\n",
    "   #initialize die\n",
    "    dice = [1,2,3,4,5,6]\n",
    "    #roll die\n",
    "    die1 = np.random.choice(dice)\n",
    "    die2 = np.random.choice(dice)  \n",
    "#broke\n",
    "    if cash < 0:\n",
    "        cash = 0\n",
    "        return state,cash \n",
    "    #in jail\n",
    "    if state == 30:\n",
    "        if(die1 == die2):\n",
    "            state = 10 + die1 + die2\n",
    "        else:\n",
    "            cash = cash - 20\n",
    "            if cash < 0:\n",
    "                cash = 0\n",
    "            return state, cash \n",
    "    else:\n",
    "        state = state + die1 + die2\n",
    "         \n",
    "    #pass GO\n",
    "    if state >= 40:\n",
    "        cash = cash + 200\n",
    "        state = state - 40\n",
    "    #go to jail\n",
    "    if state==30:\n",
    "        return state, cash     \n",
    "    #card squares\n",
    "    if state == 2 or state == 7 or state == 17 or state == 22 or state == 33 or state == 36:\n",
    "        card = np.random.choice([50,100,200,-50,-100])\n",
    "        cash = cash + card\n",
    "        return state,cash\n",
    "    #do nothing squares\n",
    "    if state == 0 or state == 10 or state == 20:\n",
    "        return state, cash\n",
    "    #other squares\n",
    "    else:\n",
    "        cash = cash - state\n",
    "        return state, cash\n",
    "    \n",
    "    return state, cash\n",
    "    \n",
    "\n"
   ]
  },
  {
   "cell_type": "markdown",
   "metadata": {},
   "source": [
    "**Part B**: Use your function from **Part A** to Simulate at least 5000 30-turn games of Miniopoly and make a frequency histogram of the player's cash at the end of the game. "
   ]
  },
  {
   "cell_type": "code",
   "execution_count": 231,
   "metadata": {
    "scrolled": true
   },
   "outputs": [
    {
     "data": {
      "image/png": "[encoded data removed]",
      "text/plain": [
       "<matplotlib.figure.Figure at 0x140fdd588>"
      ]
     },
     "metadata": {},
     "output_type": "display_data"
    }
   ],
   "source": [
    "finalCash=[]\n",
    "def play():\n",
    "    for game in range(5000):\n",
    "        state = 0\n",
    "        cash = 200\n",
    "        for turn in range(30):\n",
    "            state,cash = miniopoly_turn(state,cash)\n",
    "            if cash == 0:\n",
    "                break\n",
    "        finalCash.append(cash)\n",
    "      \n",
    "    \n",
    "play()\n",
    "#plot histogram\n",
    "plt.hist(finalCash,facecolor=\"green\", edgecolor=\"white\", bins = \"auto\")\n",
    "plt.xlabel(\"Cash\", fontsize = 14)\n",
    "plt.ylabel(\"Frequency\",fontsize = 14)\n",
    "plt.title(\"Cash at End\")\n",
    "plt.grid(alpha=0.25)\n",
    "\n"
   ]
  },
  {
   "cell_type": "markdown",
   "metadata": {},
   "source": [
    "**Part C**: Use your code from **Part A** to estimate the probability that a player goes bankrupt in the first 30 turns of the game. "
   ]
  },
  {
   "cell_type": "code",
   "execution_count": 232,
   "metadata": {},
   "outputs": [
    {
     "name": "stdout",
     "output_type": "stream",
     "text": [
      "Probability a player goes bankrupt in first 30 turns: 0.1372\n"
     ]
    }
   ],
   "source": [
    "def bankrupt():\n",
    "    count = 0\n",
    "    for i in range (5000):\n",
    "        if finalCash[i] <= 0:\n",
    "            count = count + 1\n",
    "    \n",
    "    print(\"Probability a player goes bankrupt in first 30 turns: {}\".format(count/5000))\n",
    "    \n",
    "    \n",
    "bankrupt()"
   ]
  },
  {
   "cell_type": "markdown",
   "metadata": {},
   "source": [
    "**Part D**: Use your code from **Part A** to estimate the probability that a player goes bankrupt in the first 30 turns _given_ that they went to **Jail** at least once.  Is a player more or less likely to go bankrupt if they've been to **Jail**?  "
   ]
  },
  {
   "cell_type": "code",
   "execution_count": 224,
   "metadata": {},
   "outputs": [
    {
     "name": "stdout",
     "output_type": "stream",
     "text": [
      "The probability a player goes bankrupt in the first 30 turns given that they've been to jail is 0.21229476899579988\n"
     ]
    }
   ],
   "source": [
    "money=[]\n",
    "visits=[]\n",
    "def jail():\n",
    "    for i in range (5000):\n",
    "        state = 0\n",
    "        cash = 200\n",
    "        jail = 0\n",
    "        for turn in range(30):\n",
    "            state,cash = miniopoly_turn(state,cash)\n",
    "            if state == 30:\n",
    "                jail = 1\n",
    "            if cash == 0:\n",
    "                break\n",
    "        money.append(cash)\n",
    "        visits.append(jail)\n",
    "\n",
    "def calcProb():\n",
    "    count = 0\n",
    "    broke = 0\n",
    "    vjail = 0\n",
    "    for i in range (5000):\n",
    "        if money[i] == 0:\n",
    "            broke +=1\n",
    "        if visits[i] == 1:\n",
    "            vjail +=1\n",
    "        if moeny[i] == 0 and visits[i] == 1:\n",
    "            count += 1\n",
    "    \n",
    "    jail_broke = count/5000\n",
    "    Bankrupt = broke/5000\n",
    "    Jail = vjail/5000\n",
    "    print(\"Probability bankrupt given jail: {}\".format((jail_broke/Jail)))\n",
    "    return jail_broke/Bankrupt\n",
    "    \n",
    "\n",
    "jail()\n",
    "partE = calculate_prob()"
   ]
  },
  {
   "cell_type": "markdown",
   "metadata": {},
   "source": [
    "A player is more likely to go bankrupt if theyve been to jail. The probability of a player going broke is less than them going broke given that they've gone to jail. "
   ]
  },
  {
   "cell_type": "markdown",
   "metadata": {},
   "source": [
    "**Part E**: Use your code from **Part A** to estimate the probability (either directly or using Bayes' Rule) that a player has gone to jail at least once, given that the player went bankrupt in the first 30 turns."
   ]
  },
  {
   "cell_type": "code",
   "execution_count": 233,
   "metadata": {},
   "outputs": [
    {
     "name": "stdout",
     "output_type": "stream",
     "text": [
      "Probability gone to jail given bankrupt: 0.7443105756358768\n"
     ]
    }
   ],
   "source": [
    "print(\"Probability gone to jail given bankrupt: {}\".format(partE))\n"
   ]
  },
  {
   "cell_type": "markdown",
   "metadata": {},
   "source": [
    "***\n",
    "<a/ id='p5'></a>\n",
    "[Back to top](#top)\n",
    "\n",
    "### [20 points] Problem 5\n",
    "\n",
    "Suppose you roll two fair six-sided dice.  Let $C$ be the event that the two rolls are _close_ to one another in value, in the sense that they're either equal or differ by only 1.  \n",
    "\n",
    "**Part A**: Compute $P(C)$ by hand. \n"
   ]
  },
  {
   "cell_type": "markdown",
   "metadata": {},
   "source": [
    "$D_1$ = roll dice one, $D_2$ = roll dice 2 <br>\n",
    "The probability of the two rolls being equal or differ by one can be denoted by $P(D_1 \\cap D_2)$\n",
    "SO then for each case of rolling a 1 through 6 we can calculate the equation:\n",
    "$$ P( D_1 = 1\\cap  D_2) + P( D_1 = 2 \\cap  D_2) + P( D_1 = 3 \\cap  D_2) .....+ P( D_1 = 6 \\cap  D_2)$$ \n",
    "The probabilty for $D_1$ will always equal $\\frac{1}{6}$ but the value of $D_2$ will vary since when you roll a 1 or 6 there is only 2 possibilities for dice two, ex: Die1 = 1 then Die2 can = 1,2. Then the rest of the rolls (2 -5) will have 3 possibilities.<br>\n",
    "SO plugging in the numbers..\n",
    "$$ P(D_1 \\cap D_2) = 2 \\cdot (\\frac{1}{6} \\cdot \\frac{2}{6}) + 4 \\cdot (\\frac{1}{6} \\cdot \\frac{3}{6}) $$<br>\n",
    "$$ = \\frac{1}{9}+ \\frac{1}{3} $$<br>\n",
    "$$ = \\frac{4}{9} = 0.444$$\n",
    "\n",
    "    \n"
   ]
  },
  {
   "cell_type": "markdown",
   "metadata": {},
   "source": [
    "**Part B**: Write a simulation to run many trials (at least 10,000) of the pair of rolls and estimate the value of $P(C)$ you calculated in **Part A**.  Does your estimate agree with the exact calculation you did in **Part A**?  If not, try increasing the number of trials in your simulation. "
   ]
  },
  {
   "cell_type": "code",
   "execution_count": 228,
   "metadata": {},
   "outputs": [
    {
     "name": "stdout",
     "output_type": "stream",
     "text": [
      "Value of P(C): 0.4477\n"
     ]
    }
   ],
   "source": [
    "def rolltrial(trials):\n",
    "    sides = [1,2,3,4,5,6]\n",
    "    match = 0\n",
    "        #roll die\n",
    "    for roll in range(trials):\n",
    "        die1 = np.random.choice(sides)\n",
    "        die2 = np.random.choice(sides)\n",
    "        if(die1 == die2):\n",
    "            match = match + 1\n",
    "        if(die1 +1 == die2):\n",
    "            match = match + 1\n",
    "        if(die1 -1 == die2):\n",
    "            match = match + 1\n",
    "    \n",
    "    return (match/trials)\n",
    " \n",
    "\n",
    "print(\"Value of P(C): {}\".format(rolltrial(10000)))\n",
    "        \n",
    "        "
   ]
  },
  {
   "cell_type": "markdown",
   "metadata": {},
   "source": [
    "**Part C**: In the in-class notebook associated with Lecture 4 (nb04) we plotted a running estimate of the probability of an event as a function of the number of trials in our simulation.  Write code to run at least 10 independent simulations of at least 50,000 trials each to estimate $P(C)$ and plot their running estimate curves on the same set of axes. **Hint**: This is a lot of computation, so try to leverage Numpy as much as possible so that your code doesn't run forever. "
   ]
  },
  {
   "cell_type": "code",
   "execution_count": 230,
   "metadata": {},
   "outputs": [
    {
     "data": {
      "image/png": "[encoded data removed]",
      "text/plain": [
       "<matplotlib.figure.Figure at 0x13c321588>"
      ]
     },
     "metadata": {},
     "output_type": "display_data"
    }
   ],
   "source": [
    "sides = [1,2,3,4,5,6]\n",
    "trials = 50000\n",
    "def dieSim():\n",
    "    p1 = np.zeros(trials)\n",
    "    p2 = np.zeros(trials)\n",
    "    for ii in range(trials):\n",
    "        die1 = np.random.choice(sides)\n",
    "        die2 = np.random.choice(sides)\n",
    "        if (die1==die2):\n",
    "            p1[ii] = 1\n",
    "        elif (die1+1==die2):\n",
    "            p1[ii] = 1\n",
    "        elif (die1-1 == die2):\n",
    "            p1[ii] = 1\n",
    "    for jj in range(trials):\n",
    "        p2[jj] = np.sum(p1[:jj+1] == 1) / len(p1[:jj+1])\n",
    "    #print(p1.sum()/trials)\n",
    "    return p2\n",
    "\n",
    "plots = 10\n",
    "fig, ax = plt.subplots(figsize = (15,12))\n",
    "plt.xlim(0,10000)\n",
    "ax.plot(dieSim(), label = \"1st\", color='blue')\n",
    "ax.plot(dieSim(), label = \"2nd\",  color='green')\n",
    "ax.plot(dieSim(), label = \"3rd\", color='yellow')\n",
    "ax.plot(dieSim(), label = \"4th\", color='orange')\n",
    "ax.plot(dieSim(), label = \"5th\", color='red')\n",
    "ax.plot(dieSim(), label = \"6th\", color='pink')\n",
    "ax.plot(dieSim(), label = \"7th\", color='purple')\n",
    "ax.plot(dieSim(), label = \"8th\", color='cyan')\n",
    "ax.plot(dieSim(), label = \"9th\", color='black')\n",
    "ax.plot(dieSim(), label = \"10th\", color='lime')\n",
    "\n",
    "\n",
    "ax.set_title(\"P(C)\")\n",
    "ax.set_xlabel(\"Trials\")\n",
    "ax.set_ylabel(\"Estimate of Probability\")\n",
    "ax.grid(True, alpha = .25)\n",
    "    "
   ]
  },
  {
   "cell_type": "markdown",
   "metadata": {},
   "source": [
    "**Part D**: Comment on the behavior of the running estimates as the number of trials increases. "
   ]
  },
  {
   "cell_type": "markdown",
   "metadata": {},
   "source": [
    "As the number of trials increases the data becomes closer together for each simulation. This means the precent error decreases as the number of trials increases. "
   ]
  },
  {
   "cell_type": "markdown",
   "metadata": {
    "collapsed": true
   },
   "source": [
    "***\n",
    "<a/ id='ch'></a>\n",
    "[Back to top](#top)\n",
    "\n",
    "### Challenge Problem - Night Falls. A Storm Rolls In. Can You Cross The River?\n",
    "\n",
    "In every homework assignment we'll give you a Challenge Problem.  Challenge Problems never need to be turned in (and in fact, will not be graded) but we encourage you to give them a shot (after completing the required homework problems) and discuss them with your classmates and your instructors. \n",
    "\n",
    "This Challenge Problem was a [Riddler](https://fivethirtyeight.com/tag/the-riddler/) on [FiveThirtyEight](https://fivethirtyeight.com) a few years back. \n",
    "\n",
    "You’re on the north shore of a river, and want to cross to the south, via a series of 13 bridges and six islands, which you can see in the diagram below. But, as you approach the water, night falls, a bad storm rolls in, and you’re forced to wait until morning to try to cross. Overnight, the storm could render some of the bridges unusable — it has a 50 percent chance of knocking out each of the bridges. (The chance is independent for each bridge.)\n",
    "\n",
    "<br>\n",
    "\n",
    "![alt text](https://espnfivethirtyeight.files.wordpress.com/2016/01/roeder-riddler-diagram-11.png?w=575&h=449&quality=90&strip=info)\n",
    "\n",
    "<br>\n",
    "\n",
    "What’s the probability you will be able to cross the river in the morning? (You have no boat, can’t swim, can’t fix the bridges, etc. No tricks.)"
   ]
  },
  {
   "cell_type": "markdown",
   "metadata": {
    "collapsed": true
   },
   "source": [
    " \n",
    "\n",
    "\n",
    "$$\n",
    "\\begin{bmatrix} \n",
    "    \\cos{45} \\\\     \n",
    "    -\\sin{45}\\\\      \n",
    "      0 \\\\   \n",
    "\\end{bmatrix}\n",
    "\\cdot\n",
    "\\begin{bmatrix} \n",
    "    \\sin{45} \\\\     \n",
    "    \\cos{45}\\\\      \n",
    "      0 \\\\   \n",
    "\\end{bmatrix}\n",
    "= \\cos{\\theta}\n",
    "$$<br>\n",
    "$$\\frac{\\sqrt{2}}{2} \\cdot \\frac{\\sqrt{2}}{2} + \\frac{-\\sqrt{2}}{2} \\cdot \\frac{\\sqrt{2}}{2} + 0 = \\cos{\\theta}$$ <br>\n",
    "$$ \\frac{2}{4} \\cdot \\frac{-2}{4} = \\cos{\\theta} \\rightarrow 0 = \\cos{\\theta} $$ <br>\n",
    "$$\\arccos{\\cos{\\theta}} = 0 \\rightarrow \\theta = \\arccos{0} \\rightarrow \\theta = \\frac{\\pi}{2}$$\n",
    "\n",
    "\n",
    "\n",
    "\n"
   ]
  },
  {
   "cell_type": "code",
   "execution_count": null,
   "metadata": {},
   "outputs": [],
   "source": []
  }
 ],
 "metadata": {
  "kernelspec": {
   "display_name": "Python 3",
   "language": "python",
   "name": "python3"
  },
  "language_info": {
   "codemirror_mode": {
    "name": "ipython",
    "version": 3
   },
   "file_extension": ".py",
   "mimetype": "text/x-python",
   "name": "python",
   "nbconvert_exporter": "python",
   "pygments_lexer": "ipython3",
   "version": "3.6.4"
  }
 },
 "nbformat": 4,
 "nbformat_minor": 2
}
